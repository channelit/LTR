{
 "cells": [
  {
   "cell_type": "markdown",
   "metadata": {
    "pycharm": {
     "name": "#%% md\n"
    }
   },
   "source": [
    "# Hello World! Inference - Bring Your Own Pickle File 'Model'"
   ]
  },
  {
   "cell_type": "code",
   "execution_count": 14,
   "metadata": {
    "pycharm": {
     "name": "#%%\n"
    }
   },
   "outputs": [
    {
     "name": "stdout",
     "output_type": "stream",
     "text": [
      "Requirement already satisfied: dill in /Users/hardikpatel/workbench/projects/LTR/venv/lib/python3.10/site-packages (0.3.5.1)\r\n"
     ]
    }
   ],
   "source": [
    "!pip install dill"
   ]
  },
  {
   "cell_type": "code",
   "execution_count": 15,
   "metadata": {
    "pycharm": {
     "name": "#%%\n"
    }
   },
   "outputs": [],
   "source": [
    "import dill as pickle"
   ]
  },
  {
   "cell_type": "markdown",
   "metadata": {
    "pycharm": {
     "name": "#%% md\n"
    }
   },
   "source": [
    "### Create our Custom Hello World 'Model'\n",
    "Here we create a python class called Model and inside it we have a method called predict that takes in a dataframe and returns \"Hello World!\" for each row in the dataframe. This can be thought of as training our model locally outside of SageMaker."
   ]
  },
  {
   "cell_type": "code",
   "execution_count": 16,
   "metadata": {
    "pycharm": {
     "name": "#%%\n"
    }
   },
   "outputs": [],
   "source": [
    "class Model:\n",
    "    def predict(x): \n",
    "        sentance = \"Hello World! \"* x.shape[0] \n",
    "        return sentance"
   ]
  },
  {
   "cell_type": "markdown",
   "metadata": {
    "pycharm": {
     "name": "#%% md\n"
    }
   },
   "source": [
    "### Pickle the Model. \n",
    "Now we want to serialize our custom 'Model'. "
   ]
  },
  {
   "cell_type": "code",
   "execution_count": 17,
   "metadata": {
    "pycharm": {
     "name": "#%%\n"
    }
   },
   "outputs": [],
   "source": [
    "with open('hello-world-model.pkl', 'wb') as f:\n",
    "    pickle.dump(Model, f)"
   ]
  },
  {
   "cell_type": "markdown",
   "metadata": {
    "pycharm": {
     "name": "#%% md\n"
    }
   },
   "source": [
    "### Load the model and test\n",
    "Now we can deserialize the model and test it."
   ]
  },
  {
   "cell_type": "code",
   "execution_count": 18,
   "metadata": {
    "pycharm": {
     "name": "#%%\n"
    }
   },
   "outputs": [],
   "source": [
    "with open('hello-world-model.pkl', 'rb') as f:\n",
    "    model = pickle.load(f)"
   ]
  },
  {
   "cell_type": "markdown",
   "metadata": {
    "pycharm": {
     "name": "#%% md\n"
    }
   },
   "source": [
    "#### Predict locally"
   ]
  },
  {
   "cell_type": "code",
   "execution_count": 6,
   "metadata": {
    "pycharm": {
     "name": "#%%\n"
    }
   },
   "outputs": [
    {
     "data": {
      "text/plain": "'Hello World! Hello World! Hello World! Hello World! '"
     },
     "execution_count": 6,
     "metadata": {},
     "output_type": "execute_result"
    }
   ],
   "source": [
    "import pandas as pd\n",
    "\n",
    "raw_data = ['Say Hello World!', 'Say Hello World!', 'Say Hello World!', 'Say Hello World!']\n",
    "df = pd.DataFrame(raw_data) \n",
    "\n",
    "model.predict(df)"
   ]
  },
  {
   "cell_type": "markdown",
   "metadata": {
    "pycharm": {
     "name": "#%% md\n"
    }
   },
   "source": [
    "### Package our Model to deploy to a SageMaker endpoint\n",
    "SageMaker requires our Model to be tared and gzipped. "
   ]
  },
  {
   "cell_type": "code",
   "execution_count": 7,
   "metadata": {
    "pycharm": {
     "name": "#%%\n"
    }
   },
   "outputs": [
    {
     "name": "stdout",
     "output_type": "stream",
     "text": [
      "a hello-world-model.pkl\r\n"
     ]
    }
   ],
   "source": [
    "! tar -czvf hello_world_model.tar.gz hello-world-model.pkl"
   ]
  },
  {
   "cell_type": "markdown",
   "metadata": {
    "pycharm": {
     "name": "#%% md\n"
    }
   },
   "source": [
    "### Upload our Model to S3\n",
    "Now we can upload our Model pickeled (serialized) Model to S3"
   ]
  },
  {
   "cell_type": "code",
   "execution_count": 8,
   "metadata": {
    "pycharm": {
     "name": "#%%\n"
    }
   },
   "outputs": [
    {
     "name": "stdout",
     "output_type": "stream",
     "text": [
      "zsh:1: command not found: aws\r\n"
     ]
    }
   ],
   "source": [
    "import sagemaker\n",
    "\n",
    "bucket = sagemaker.Session().default_bucket()\n",
    "prefix = 'DEMO-hello-world'\n",
    "\n",
    "    \n",
    "! aws s3 cp hello_world_model.tar.gz s3://$bucket/$prefix/model.tar.gz"
   ]
  },
  {
   "cell_type": "markdown",
   "metadata": {
    "pycharm": {
     "name": "#%% md\n"
    }
   },
   "source": [
    "### Build and Push our container to ECR\n",
    "We have our custom Model that is now in S3. All we need now is a container that implemenets the hosting requirements and inference logic.\n",
    "An important file to look at is the predictor.py here we coded the logic to deserialize the Model and make a inference from it. SageMaker fetched our Model from S3 and placed it in /opt/ml/model/. Take a look at the get_model() method which uses the code above to load the model from the SageMaker model path. "
   ]
  },
  {
   "cell_type": "code",
   "execution_count": null,
   "metadata": {
    "pycharm": {
     "name": "#%%\n"
    }
   },
   "outputs": [],
   "source": [
    "!sed -n '26,31p' container/Files/predictor.py"
   ]
  },
  {
   "cell_type": "code",
   "execution_count": null,
   "metadata": {
    "pycharm": {
     "name": "#%%\n"
    }
   },
   "outputs": [],
   "source": [
    "%%sh\n",
    "\n",
    "# The name of our algorithm\n",
    "algorithm_name=sagemaker-hello-world-inference\n",
    "\n",
    "cd container\n",
    "\n",
    "\n",
    "chmod +x Files/serve\n",
    "\n",
    "account=$(aws sts get-caller-identity --query Account --output text)\n",
    "\n",
    "# Get the region defined in the current configuration (default to us-west-2 if none defined)\n",
    "region=$(aws configure get region)\n",
    "region=${region:-us-east-1}\n",
    "\n",
    "fullname=\"${account}.dkr.ecr.${region}.amazonaws.com/${algorithm_name}:latest\"\n",
    "\n",
    "# If the repository doesn't exist in ECR, create it.\n",
    "aws ecr describe-repositories --repository-names \"${algorithm_name}\" > /dev/null 2>&1\n",
    "\n",
    "if [ $? -ne 0 ]\n",
    "then\n",
    "    aws ecr create-repository --repository-name \"${algorithm_name}\" > /dev/null\n",
    "fi\n",
    "\n",
    "# Get the login command from ECR and execute it directly\n",
    "$(aws ecr get-login --region ${region} --no-include-email)\n",
    "\n",
    "# Build the docker image locally with the image name and then push it to ECR\n",
    "# with the full name.\n",
    "\n",
    "docker build  -t ${algorithm_name} .\n",
    "docker tag ${algorithm_name} ${fullname}\n",
    "\n",
    "docker push ${fullname}"
   ]
  },
  {
   "cell_type": "markdown",
   "metadata": {
    "pycharm": {
     "name": "#%% md\n"
    }
   },
   "source": [
    "### Deploy our Model to an Endpoint\n",
    "Our container has been pushed to ECR and our Model is in S3 now we have everything we need to Deploy to a SageMaker Endpoint."
   ]
  },
  {
   "cell_type": "code",
   "execution_count": 9,
   "metadata": {
    "pycharm": {
     "name": "#%%\n"
    }
   },
   "outputs": [],
   "source": [
    "from sagemaker import get_execution_role\n",
    "role = get_execution_role()"
   ]
  },
  {
   "cell_type": "code",
   "execution_count": 19,
   "metadata": {
    "pycharm": {
     "name": "#%%\n"
    }
   },
   "outputs": [],
   "source": [
    "from sagemaker.model import Model\n",
    "from sagemaker.predictor import RealTimePredictor, json_serializer, json_deserializer"
   ]
  },
  {
   "cell_type": "code",
   "execution_count": 23,
   "metadata": {
    "pycharm": {
     "name": "#%%\n"
    }
   },
   "outputs": [],
   "source": [
    "# Create a Predictor so we can use the predict() method to invoke our 'model'.\n",
    "class Predictor(RealTimePredictor):\n",
    "    def __init__(self, endpoint_name, sagemaker_session=None):\n",
    "        super(Predictor, self).__init__(\n",
    "            endpoint_name, sagemaker_session, json_serializer, json_deserializer\n",
    "        )"
   ]
  },
  {
   "cell_type": "markdown",
   "metadata": {
    "pycharm": {
     "name": "#%% md\n"
    }
   },
   "source": [
    "#### Create a SageMaker Model"
   ]
  },
  {
   "cell_type": "code",
   "execution_count": 24,
   "metadata": {
    "pycharm": {
     "name": "#%%\n"
    }
   },
   "outputs": [
    {
     "ename": "TypeError",
     "evalue": "cannot pickle '_abc._abc_data' object",
     "output_type": "error",
     "traceback": [
      "\u001B[0;31m---------------------------------------------------------------------------\u001B[0m",
      "\u001B[0;31mTypeError\u001B[0m                                 Traceback (most recent call last)",
      "Input \u001B[0;32mIn [24]\u001B[0m, in \u001B[0;36m<cell line: 11>\u001B[0;34m()\u001B[0m\n\u001B[1;32m      5\u001B[0m sagemaker_model \u001B[38;5;241m=\u001B[39m Model(\n\u001B[1;32m      6\u001B[0m                         model_data \u001B[38;5;241m=\u001B[39m \u001B[38;5;124m\"\u001B[39m\u001B[38;5;124ms3://cits-byotf/model/model.tar.gz\u001B[39m\u001B[38;5;124m\"\u001B[39m,\n\u001B[1;32m      7\u001B[0m                         image_uri \u001B[38;5;241m=\u001B[39m \u001B[38;5;124m\"\u001B[39m\u001B[38;5;124m122936777114.dkr.ecr.us-east-1.amazonaws.com/cits_byo\u001B[39m\u001B[38;5;124m\"\u001B[39m,\n\u001B[1;32m      8\u001B[0m                         role\u001B[38;5;241m=\u001B[39m\u001B[38;5;124m\"\u001B[39m\u001B[38;5;124marn:aws:iam::122936777114:role/cits_sagemaker\u001B[39m\u001B[38;5;124m\"\u001B[39m,\n\u001B[1;32m      9\u001B[0m                         predictor_cls\u001B[38;5;241m=\u001B[39m Predictor\n\u001B[1;32m     10\u001B[0m                        )\n\u001B[1;32m     11\u001B[0m \u001B[38;5;28;01mwith\u001B[39;00m \u001B[38;5;28mopen\u001B[39m(\u001B[38;5;124m'\u001B[39m\u001B[38;5;124mhello-world-model-1.pkl\u001B[39m\u001B[38;5;124m'\u001B[39m, \u001B[38;5;124m'\u001B[39m\u001B[38;5;124mwb\u001B[39m\u001B[38;5;124m'\u001B[39m) \u001B[38;5;28;01mas\u001B[39;00m f:\n\u001B[0;32m---> 12\u001B[0m     \u001B[43mpickle\u001B[49m\u001B[38;5;241;43m.\u001B[39;49m\u001B[43mdump\u001B[49m\u001B[43m(\u001B[49m\u001B[43msagemaker_model\u001B[49m\u001B[43m,\u001B[49m\u001B[43m \u001B[49m\u001B[43mf\u001B[49m\u001B[43m)\u001B[49m\n",
      "File \u001B[0;32m~/workbench/projects/LTR/venv/lib/python3.10/site-packages/dill/_dill.py:336\u001B[0m, in \u001B[0;36mdump\u001B[0;34m(obj, file, protocol, byref, fmode, recurse, **kwds)\u001B[0m\n\u001B[1;32m    334\u001B[0m _kwds \u001B[38;5;241m=\u001B[39m kwds\u001B[38;5;241m.\u001B[39mcopy()\n\u001B[1;32m    335\u001B[0m _kwds\u001B[38;5;241m.\u001B[39mupdate(\u001B[38;5;28mdict\u001B[39m(byref\u001B[38;5;241m=\u001B[39mbyref, fmode\u001B[38;5;241m=\u001B[39mfmode, recurse\u001B[38;5;241m=\u001B[39mrecurse))\n\u001B[0;32m--> 336\u001B[0m \u001B[43mPickler\u001B[49m\u001B[43m(\u001B[49m\u001B[43mfile\u001B[49m\u001B[43m,\u001B[49m\u001B[43m \u001B[49m\u001B[43mprotocol\u001B[49m\u001B[43m,\u001B[49m\u001B[43m \u001B[49m\u001B[38;5;241;43m*\u001B[39;49m\u001B[38;5;241;43m*\u001B[39;49m\u001B[43m_kwds\u001B[49m\u001B[43m)\u001B[49m\u001B[38;5;241;43m.\u001B[39;49m\u001B[43mdump\u001B[49m\u001B[43m(\u001B[49m\u001B[43mobj\u001B[49m\u001B[43m)\u001B[49m\n\u001B[1;32m    337\u001B[0m \u001B[38;5;28;01mreturn\u001B[39;00m\n",
      "File \u001B[0;32m~/workbench/projects/LTR/venv/lib/python3.10/site-packages/dill/_dill.py:620\u001B[0m, in \u001B[0;36mPickler.dump\u001B[0;34m(self, obj)\u001B[0m\n\u001B[1;32m    618\u001B[0m     \u001B[38;5;28;01mraise\u001B[39;00m PicklingError(msg)\n\u001B[1;32m    619\u001B[0m \u001B[38;5;28;01melse\u001B[39;00m:\n\u001B[0;32m--> 620\u001B[0m     \u001B[43mStockPickler\u001B[49m\u001B[38;5;241;43m.\u001B[39;49m\u001B[43mdump\u001B[49m\u001B[43m(\u001B[49m\u001B[38;5;28;43mself\u001B[39;49m\u001B[43m,\u001B[49m\u001B[43m \u001B[49m\u001B[43mobj\u001B[49m\u001B[43m)\u001B[49m\n\u001B[1;32m    621\u001B[0m \u001B[38;5;28;01mreturn\u001B[39;00m\n",
      "File \u001B[0;32m/Library/Frameworks/Python.framework/Versions/3.10/lib/python3.10/pickle.py:487\u001B[0m, in \u001B[0;36m_Pickler.dump\u001B[0;34m(self, obj)\u001B[0m\n\u001B[1;32m    485\u001B[0m \u001B[38;5;28;01mif\u001B[39;00m \u001B[38;5;28mself\u001B[39m\u001B[38;5;241m.\u001B[39mproto \u001B[38;5;241m>\u001B[39m\u001B[38;5;241m=\u001B[39m \u001B[38;5;241m4\u001B[39m:\n\u001B[1;32m    486\u001B[0m     \u001B[38;5;28mself\u001B[39m\u001B[38;5;241m.\u001B[39mframer\u001B[38;5;241m.\u001B[39mstart_framing()\n\u001B[0;32m--> 487\u001B[0m \u001B[38;5;28;43mself\u001B[39;49m\u001B[38;5;241;43m.\u001B[39;49m\u001B[43msave\u001B[49m\u001B[43m(\u001B[49m\u001B[43mobj\u001B[49m\u001B[43m)\u001B[49m\n\u001B[1;32m    488\u001B[0m \u001B[38;5;28mself\u001B[39m\u001B[38;5;241m.\u001B[39mwrite(STOP)\n\u001B[1;32m    489\u001B[0m \u001B[38;5;28mself\u001B[39m\u001B[38;5;241m.\u001B[39mframer\u001B[38;5;241m.\u001B[39mend_framing()\n",
      "File \u001B[0;32m/Library/Frameworks/Python.framework/Versions/3.10/lib/python3.10/pickle.py:603\u001B[0m, in \u001B[0;36m_Pickler.save\u001B[0;34m(self, obj, save_persistent_id)\u001B[0m\n\u001B[1;32m    599\u001B[0m     \u001B[38;5;28;01mraise\u001B[39;00m PicklingError(\u001B[38;5;124m\"\u001B[39m\u001B[38;5;124mTuple returned by \u001B[39m\u001B[38;5;132;01m%s\u001B[39;00m\u001B[38;5;124m must have \u001B[39m\u001B[38;5;124m\"\u001B[39m\n\u001B[1;32m    600\u001B[0m                         \u001B[38;5;124m\"\u001B[39m\u001B[38;5;124mtwo to six elements\u001B[39m\u001B[38;5;124m\"\u001B[39m \u001B[38;5;241m%\u001B[39m reduce)\n\u001B[1;32m    602\u001B[0m \u001B[38;5;66;03m# Save the reduce() output and finally memoize the object\u001B[39;00m\n\u001B[0;32m--> 603\u001B[0m \u001B[38;5;28;43mself\u001B[39;49m\u001B[38;5;241;43m.\u001B[39;49m\u001B[43msave_reduce\u001B[49m\u001B[43m(\u001B[49m\u001B[43mobj\u001B[49m\u001B[38;5;241;43m=\u001B[39;49m\u001B[43mobj\u001B[49m\u001B[43m,\u001B[49m\u001B[43m \u001B[49m\u001B[38;5;241;43m*\u001B[39;49m\u001B[43mrv\u001B[49m\u001B[43m)\u001B[49m\n",
      "File \u001B[0;32m/Library/Frameworks/Python.framework/Versions/3.10/lib/python3.10/pickle.py:717\u001B[0m, in \u001B[0;36m_Pickler.save_reduce\u001B[0;34m(self, func, args, state, listitems, dictitems, state_setter, obj)\u001B[0m\n\u001B[1;32m    715\u001B[0m \u001B[38;5;28;01mif\u001B[39;00m state \u001B[38;5;129;01mis\u001B[39;00m \u001B[38;5;129;01mnot\u001B[39;00m \u001B[38;5;28;01mNone\u001B[39;00m:\n\u001B[1;32m    716\u001B[0m     \u001B[38;5;28;01mif\u001B[39;00m state_setter \u001B[38;5;129;01mis\u001B[39;00m \u001B[38;5;28;01mNone\u001B[39;00m:\n\u001B[0;32m--> 717\u001B[0m         \u001B[43msave\u001B[49m\u001B[43m(\u001B[49m\u001B[43mstate\u001B[49m\u001B[43m)\u001B[49m\n\u001B[1;32m    718\u001B[0m         write(BUILD)\n\u001B[1;32m    719\u001B[0m     \u001B[38;5;28;01melse\u001B[39;00m:\n\u001B[1;32m    720\u001B[0m         \u001B[38;5;66;03m# If a state_setter is specified, call it instead of load_build\u001B[39;00m\n\u001B[1;32m    721\u001B[0m         \u001B[38;5;66;03m# to update obj's with its previous state.\u001B[39;00m\n\u001B[1;32m    722\u001B[0m         \u001B[38;5;66;03m# First, push state_setter and its tuple of expected arguments\u001B[39;00m\n\u001B[1;32m    723\u001B[0m         \u001B[38;5;66;03m# (obj, state) onto the stack.\u001B[39;00m\n",
      "File \u001B[0;32m/Library/Frameworks/Python.framework/Versions/3.10/lib/python3.10/pickle.py:560\u001B[0m, in \u001B[0;36m_Pickler.save\u001B[0;34m(self, obj, save_persistent_id)\u001B[0m\n\u001B[1;32m    558\u001B[0m f \u001B[38;5;241m=\u001B[39m \u001B[38;5;28mself\u001B[39m\u001B[38;5;241m.\u001B[39mdispatch\u001B[38;5;241m.\u001B[39mget(t)\n\u001B[1;32m    559\u001B[0m \u001B[38;5;28;01mif\u001B[39;00m f \u001B[38;5;129;01mis\u001B[39;00m \u001B[38;5;129;01mnot\u001B[39;00m \u001B[38;5;28;01mNone\u001B[39;00m:\n\u001B[0;32m--> 560\u001B[0m     \u001B[43mf\u001B[49m\u001B[43m(\u001B[49m\u001B[38;5;28;43mself\u001B[39;49m\u001B[43m,\u001B[49m\u001B[43m \u001B[49m\u001B[43mobj\u001B[49m\u001B[43m)\u001B[49m  \u001B[38;5;66;03m# Call unbound method with explicit self\u001B[39;00m\n\u001B[1;32m    561\u001B[0m     \u001B[38;5;28;01mreturn\u001B[39;00m\n\u001B[1;32m    563\u001B[0m \u001B[38;5;66;03m# Check private dispatch table if any, or else\u001B[39;00m\n\u001B[1;32m    564\u001B[0m \u001B[38;5;66;03m# copyreg.dispatch_table\u001B[39;00m\n",
      "File \u001B[0;32m~/workbench/projects/LTR/venv/lib/python3.10/site-packages/dill/_dill.py:1251\u001B[0m, in \u001B[0;36msave_module_dict\u001B[0;34m(pickler, obj)\u001B[0m\n\u001B[1;32m   1248\u001B[0m     \u001B[38;5;28;01mif\u001B[39;00m is_dill(pickler, child\u001B[38;5;241m=\u001B[39m\u001B[38;5;28;01mFalse\u001B[39;00m) \u001B[38;5;129;01mand\u001B[39;00m pickler\u001B[38;5;241m.\u001B[39m_session:\n\u001B[1;32m   1249\u001B[0m         \u001B[38;5;66;03m# we only care about session the first pass thru\u001B[39;00m\n\u001B[1;32m   1250\u001B[0m         pickler\u001B[38;5;241m.\u001B[39m_first_pass \u001B[38;5;241m=\u001B[39m \u001B[38;5;28;01mFalse\u001B[39;00m\n\u001B[0;32m-> 1251\u001B[0m     \u001B[43mStockPickler\u001B[49m\u001B[38;5;241;43m.\u001B[39;49m\u001B[43msave_dict\u001B[49m\u001B[43m(\u001B[49m\u001B[43mpickler\u001B[49m\u001B[43m,\u001B[49m\u001B[43m \u001B[49m\u001B[43mobj\u001B[49m\u001B[43m)\u001B[49m\n\u001B[1;32m   1252\u001B[0m     log\u001B[38;5;241m.\u001B[39minfo(\u001B[38;5;124m\"\u001B[39m\u001B[38;5;124m# D2\u001B[39m\u001B[38;5;124m\"\u001B[39m)\n\u001B[1;32m   1253\u001B[0m \u001B[38;5;28;01mreturn\u001B[39;00m\n",
      "File \u001B[0;32m/Library/Frameworks/Python.framework/Versions/3.10/lib/python3.10/pickle.py:972\u001B[0m, in \u001B[0;36m_Pickler.save_dict\u001B[0;34m(self, obj)\u001B[0m\n\u001B[1;32m    969\u001B[0m     \u001B[38;5;28mself\u001B[39m\u001B[38;5;241m.\u001B[39mwrite(MARK \u001B[38;5;241m+\u001B[39m DICT)\n\u001B[1;32m    971\u001B[0m \u001B[38;5;28mself\u001B[39m\u001B[38;5;241m.\u001B[39mmemoize(obj)\n\u001B[0;32m--> 972\u001B[0m \u001B[38;5;28;43mself\u001B[39;49m\u001B[38;5;241;43m.\u001B[39;49m\u001B[43m_batch_setitems\u001B[49m\u001B[43m(\u001B[49m\u001B[43mobj\u001B[49m\u001B[38;5;241;43m.\u001B[39;49m\u001B[43mitems\u001B[49m\u001B[43m(\u001B[49m\u001B[43m)\u001B[49m\u001B[43m)\u001B[49m\n",
      "File \u001B[0;32m/Library/Frameworks/Python.framework/Versions/3.10/lib/python3.10/pickle.py:998\u001B[0m, in \u001B[0;36m_Pickler._batch_setitems\u001B[0;34m(self, items)\u001B[0m\n\u001B[1;32m    996\u001B[0m     \u001B[38;5;28;01mfor\u001B[39;00m k, v \u001B[38;5;129;01min\u001B[39;00m tmp:\n\u001B[1;32m    997\u001B[0m         save(k)\n\u001B[0;32m--> 998\u001B[0m         \u001B[43msave\u001B[49m\u001B[43m(\u001B[49m\u001B[43mv\u001B[49m\u001B[43m)\u001B[49m\n\u001B[1;32m    999\u001B[0m     write(SETITEMS)\n\u001B[1;32m   1000\u001B[0m \u001B[38;5;28;01melif\u001B[39;00m n:\n",
      "File \u001B[0;32m/Library/Frameworks/Python.framework/Versions/3.10/lib/python3.10/pickle.py:560\u001B[0m, in \u001B[0;36m_Pickler.save\u001B[0;34m(self, obj, save_persistent_id)\u001B[0m\n\u001B[1;32m    558\u001B[0m f \u001B[38;5;241m=\u001B[39m \u001B[38;5;28mself\u001B[39m\u001B[38;5;241m.\u001B[39mdispatch\u001B[38;5;241m.\u001B[39mget(t)\n\u001B[1;32m    559\u001B[0m \u001B[38;5;28;01mif\u001B[39;00m f \u001B[38;5;129;01mis\u001B[39;00m \u001B[38;5;129;01mnot\u001B[39;00m \u001B[38;5;28;01mNone\u001B[39;00m:\n\u001B[0;32m--> 560\u001B[0m     \u001B[43mf\u001B[49m\u001B[43m(\u001B[49m\u001B[38;5;28;43mself\u001B[39;49m\u001B[43m,\u001B[49m\u001B[43m \u001B[49m\u001B[43mobj\u001B[49m\u001B[43m)\u001B[49m  \u001B[38;5;66;03m# Call unbound method with explicit self\u001B[39;00m\n\u001B[1;32m    561\u001B[0m     \u001B[38;5;28;01mreturn\u001B[39;00m\n\u001B[1;32m    563\u001B[0m \u001B[38;5;66;03m# Check private dispatch table if any, or else\u001B[39;00m\n\u001B[1;32m    564\u001B[0m \u001B[38;5;66;03m# copyreg.dispatch_table\u001B[39;00m\n",
      "File \u001B[0;32m~/workbench/projects/LTR/venv/lib/python3.10/site-packages/dill/_dill.py:1838\u001B[0m, in \u001B[0;36msave_type\u001B[0;34m(pickler, obj, postproc_list)\u001B[0m\n\u001B[1;32m   1836\u001B[0m             postproc_list \u001B[38;5;241m=\u001B[39m []\n\u001B[1;32m   1837\u001B[0m         postproc_list\u001B[38;5;241m.\u001B[39mappend((\u001B[38;5;28msetattr\u001B[39m, (obj, \u001B[38;5;124m'\u001B[39m\u001B[38;5;124m__qualname__\u001B[39m\u001B[38;5;124m'\u001B[39m, obj_name)))\n\u001B[0;32m-> 1838\u001B[0m     \u001B[43m_save_with_postproc\u001B[49m\u001B[43m(\u001B[49m\u001B[43mpickler\u001B[49m\u001B[43m,\u001B[49m\u001B[43m \u001B[49m\u001B[43m(\u001B[49m\u001B[43m_create_type\u001B[49m\u001B[43m,\u001B[49m\u001B[43m \u001B[49m\u001B[43m(\u001B[49m\n\u001B[1;32m   1839\u001B[0m \u001B[43m        \u001B[49m\u001B[38;5;28;43mtype\u001B[39;49m\u001B[43m(\u001B[49m\u001B[43mobj\u001B[49m\u001B[43m)\u001B[49m\u001B[43m,\u001B[49m\u001B[43m \u001B[49m\u001B[43mobj\u001B[49m\u001B[38;5;241;43m.\u001B[39;49m\u001B[38;5;18;43m__name__\u001B[39;49m\u001B[43m,\u001B[49m\u001B[43m \u001B[49m\u001B[43mobj\u001B[49m\u001B[38;5;241;43m.\u001B[39;49m\u001B[38;5;18;43m__bases__\u001B[39;49m\u001B[43m,\u001B[49m\u001B[43m \u001B[49m\u001B[43m_dict\u001B[49m\n\u001B[1;32m   1840\u001B[0m \u001B[43m    \u001B[49m\u001B[43m)\u001B[49m\u001B[43m)\u001B[49m\u001B[43m,\u001B[49m\u001B[43m \u001B[49m\u001B[43mobj\u001B[49m\u001B[38;5;241;43m=\u001B[39;49m\u001B[43mobj\u001B[49m\u001B[43m,\u001B[49m\u001B[43m \u001B[49m\u001B[43mpostproc_list\u001B[49m\u001B[38;5;241;43m=\u001B[39;49m\u001B[43mpostproc_list\u001B[49m\u001B[43m)\u001B[49m\n\u001B[1;32m   1841\u001B[0m     log\u001B[38;5;241m.\u001B[39minfo(\u001B[38;5;124m\"\u001B[39m\u001B[38;5;124m# \u001B[39m\u001B[38;5;132;01m%s\u001B[39;00m\u001B[38;5;124m\"\u001B[39m \u001B[38;5;241m%\u001B[39m _t)\n\u001B[1;32m   1842\u001B[0m \u001B[38;5;28;01melse\u001B[39;00m:\n",
      "File \u001B[0;32m~/workbench/projects/LTR/venv/lib/python3.10/site-packages/dill/_dill.py:1140\u001B[0m, in \u001B[0;36m_save_with_postproc\u001B[0;34m(pickler, reduction, is_pickler_dill, obj, postproc_list)\u001B[0m\n\u001B[1;32m   1137\u001B[0m     pickler\u001B[38;5;241m.\u001B[39m_postproc[\u001B[38;5;28mid\u001B[39m(obj)] \u001B[38;5;241m=\u001B[39m postproc_list\n\u001B[1;32m   1139\u001B[0m \u001B[38;5;66;03m# TODO: Use state_setter in Python 3.8 to allow for faster cPickle implementations\u001B[39;00m\n\u001B[0;32m-> 1140\u001B[0m \u001B[43mpickler\u001B[49m\u001B[38;5;241;43m.\u001B[39;49m\u001B[43msave_reduce\u001B[49m\u001B[43m(\u001B[49m\u001B[38;5;241;43m*\u001B[39;49m\u001B[43mreduction\u001B[49m\u001B[43m,\u001B[49m\u001B[43m \u001B[49m\u001B[43mobj\u001B[49m\u001B[38;5;241;43m=\u001B[39;49m\u001B[43mobj\u001B[49m\u001B[43m)\u001B[49m\n\u001B[1;32m   1142\u001B[0m \u001B[38;5;28;01mif\u001B[39;00m is_pickler_dill:\n\u001B[1;32m   1143\u001B[0m     \u001B[38;5;66;03m# pickler.x -= 1\u001B[39;00m\n\u001B[1;32m   1144\u001B[0m     \u001B[38;5;66;03m# print(pickler.x*' ', 'pop', obj, id(obj))\u001B[39;00m\n\u001B[1;32m   1145\u001B[0m     postproc \u001B[38;5;241m=\u001B[39m pickler\u001B[38;5;241m.\u001B[39m_postproc\u001B[38;5;241m.\u001B[39mpop(\u001B[38;5;28mid\u001B[39m(obj))\n",
      "File \u001B[0;32m/Library/Frameworks/Python.framework/Versions/3.10/lib/python3.10/pickle.py:692\u001B[0m, in \u001B[0;36m_Pickler.save_reduce\u001B[0;34m(self, func, args, state, listitems, dictitems, state_setter, obj)\u001B[0m\n\u001B[1;32m    690\u001B[0m \u001B[38;5;28;01melse\u001B[39;00m:\n\u001B[1;32m    691\u001B[0m     save(func)\n\u001B[0;32m--> 692\u001B[0m     \u001B[43msave\u001B[49m\u001B[43m(\u001B[49m\u001B[43margs\u001B[49m\u001B[43m)\u001B[49m\n\u001B[1;32m    693\u001B[0m     write(REDUCE)\n\u001B[1;32m    695\u001B[0m \u001B[38;5;28;01mif\u001B[39;00m obj \u001B[38;5;129;01mis\u001B[39;00m \u001B[38;5;129;01mnot\u001B[39;00m \u001B[38;5;28;01mNone\u001B[39;00m:\n\u001B[1;32m    696\u001B[0m     \u001B[38;5;66;03m# If the object is already in the memo, this means it is\u001B[39;00m\n\u001B[1;32m    697\u001B[0m     \u001B[38;5;66;03m# recursive. In this case, throw away everything we put on the\u001B[39;00m\n\u001B[1;32m    698\u001B[0m     \u001B[38;5;66;03m# stack, and fetch the object back from the memo.\u001B[39;00m\n",
      "File \u001B[0;32m/Library/Frameworks/Python.framework/Versions/3.10/lib/python3.10/pickle.py:560\u001B[0m, in \u001B[0;36m_Pickler.save\u001B[0;34m(self, obj, save_persistent_id)\u001B[0m\n\u001B[1;32m    558\u001B[0m f \u001B[38;5;241m=\u001B[39m \u001B[38;5;28mself\u001B[39m\u001B[38;5;241m.\u001B[39mdispatch\u001B[38;5;241m.\u001B[39mget(t)\n\u001B[1;32m    559\u001B[0m \u001B[38;5;28;01mif\u001B[39;00m f \u001B[38;5;129;01mis\u001B[39;00m \u001B[38;5;129;01mnot\u001B[39;00m \u001B[38;5;28;01mNone\u001B[39;00m:\n\u001B[0;32m--> 560\u001B[0m     \u001B[43mf\u001B[49m\u001B[43m(\u001B[49m\u001B[38;5;28;43mself\u001B[39;49m\u001B[43m,\u001B[49m\u001B[43m \u001B[49m\u001B[43mobj\u001B[49m\u001B[43m)\u001B[49m  \u001B[38;5;66;03m# Call unbound method with explicit self\u001B[39;00m\n\u001B[1;32m    561\u001B[0m     \u001B[38;5;28;01mreturn\u001B[39;00m\n\u001B[1;32m    563\u001B[0m \u001B[38;5;66;03m# Check private dispatch table if any, or else\u001B[39;00m\n\u001B[1;32m    564\u001B[0m \u001B[38;5;66;03m# copyreg.dispatch_table\u001B[39;00m\n",
      "File \u001B[0;32m/Library/Frameworks/Python.framework/Versions/3.10/lib/python3.10/pickle.py:902\u001B[0m, in \u001B[0;36m_Pickler.save_tuple\u001B[0;34m(self, obj)\u001B[0m\n\u001B[1;32m    900\u001B[0m write(MARK)\n\u001B[1;32m    901\u001B[0m \u001B[38;5;28;01mfor\u001B[39;00m element \u001B[38;5;129;01min\u001B[39;00m obj:\n\u001B[0;32m--> 902\u001B[0m     \u001B[43msave\u001B[49m\u001B[43m(\u001B[49m\u001B[43melement\u001B[49m\u001B[43m)\u001B[49m\n\u001B[1;32m    904\u001B[0m \u001B[38;5;28;01mif\u001B[39;00m \u001B[38;5;28mid\u001B[39m(obj) \u001B[38;5;129;01min\u001B[39;00m memo:\n\u001B[1;32m    905\u001B[0m     \u001B[38;5;66;03m# Subtle.  d was not in memo when we entered save_tuple(), so\u001B[39;00m\n\u001B[1;32m    906\u001B[0m     \u001B[38;5;66;03m# the process of saving the tuple's elements must have saved\u001B[39;00m\n\u001B[0;32m   (...)\u001B[0m\n\u001B[1;32m    910\u001B[0m     \u001B[38;5;66;03m# could have been done in the \"for element\" loop instead, but\u001B[39;00m\n\u001B[1;32m    911\u001B[0m     \u001B[38;5;66;03m# recursive tuples are a rare thing.\u001B[39;00m\n\u001B[1;32m    912\u001B[0m     get \u001B[38;5;241m=\u001B[39m \u001B[38;5;28mself\u001B[39m\u001B[38;5;241m.\u001B[39mget(memo[\u001B[38;5;28mid\u001B[39m(obj)][\u001B[38;5;241m0\u001B[39m])\n",
      "File \u001B[0;32m/Library/Frameworks/Python.framework/Versions/3.10/lib/python3.10/pickle.py:560\u001B[0m, in \u001B[0;36m_Pickler.save\u001B[0;34m(self, obj, save_persistent_id)\u001B[0m\n\u001B[1;32m    558\u001B[0m f \u001B[38;5;241m=\u001B[39m \u001B[38;5;28mself\u001B[39m\u001B[38;5;241m.\u001B[39mdispatch\u001B[38;5;241m.\u001B[39mget(t)\n\u001B[1;32m    559\u001B[0m \u001B[38;5;28;01mif\u001B[39;00m f \u001B[38;5;129;01mis\u001B[39;00m \u001B[38;5;129;01mnot\u001B[39;00m \u001B[38;5;28;01mNone\u001B[39;00m:\n\u001B[0;32m--> 560\u001B[0m     \u001B[43mf\u001B[49m\u001B[43m(\u001B[49m\u001B[38;5;28;43mself\u001B[39;49m\u001B[43m,\u001B[49m\u001B[43m \u001B[49m\u001B[43mobj\u001B[49m\u001B[43m)\u001B[49m  \u001B[38;5;66;03m# Call unbound method with explicit self\u001B[39;00m\n\u001B[1;32m    561\u001B[0m     \u001B[38;5;28;01mreturn\u001B[39;00m\n\u001B[1;32m    563\u001B[0m \u001B[38;5;66;03m# Check private dispatch table if any, or else\u001B[39;00m\n\u001B[1;32m    564\u001B[0m \u001B[38;5;66;03m# copyreg.dispatch_table\u001B[39;00m\n",
      "File \u001B[0;32m/Library/Frameworks/Python.framework/Versions/3.10/lib/python3.10/pickle.py:887\u001B[0m, in \u001B[0;36m_Pickler.save_tuple\u001B[0;34m(self, obj)\u001B[0m\n\u001B[1;32m    885\u001B[0m \u001B[38;5;28;01mif\u001B[39;00m n \u001B[38;5;241m<\u001B[39m\u001B[38;5;241m=\u001B[39m \u001B[38;5;241m3\u001B[39m \u001B[38;5;129;01mand\u001B[39;00m \u001B[38;5;28mself\u001B[39m\u001B[38;5;241m.\u001B[39mproto \u001B[38;5;241m>\u001B[39m\u001B[38;5;241m=\u001B[39m \u001B[38;5;241m2\u001B[39m:\n\u001B[1;32m    886\u001B[0m     \u001B[38;5;28;01mfor\u001B[39;00m element \u001B[38;5;129;01min\u001B[39;00m obj:\n\u001B[0;32m--> 887\u001B[0m         \u001B[43msave\u001B[49m\u001B[43m(\u001B[49m\u001B[43melement\u001B[49m\u001B[43m)\u001B[49m\n\u001B[1;32m    888\u001B[0m     \u001B[38;5;66;03m# Subtle.  Same as in the big comment below.\u001B[39;00m\n\u001B[1;32m    889\u001B[0m     \u001B[38;5;28;01mif\u001B[39;00m \u001B[38;5;28mid\u001B[39m(obj) \u001B[38;5;129;01min\u001B[39;00m memo:\n",
      "File \u001B[0;32m/Library/Frameworks/Python.framework/Versions/3.10/lib/python3.10/pickle.py:560\u001B[0m, in \u001B[0;36m_Pickler.save\u001B[0;34m(self, obj, save_persistent_id)\u001B[0m\n\u001B[1;32m    558\u001B[0m f \u001B[38;5;241m=\u001B[39m \u001B[38;5;28mself\u001B[39m\u001B[38;5;241m.\u001B[39mdispatch\u001B[38;5;241m.\u001B[39mget(t)\n\u001B[1;32m    559\u001B[0m \u001B[38;5;28;01mif\u001B[39;00m f \u001B[38;5;129;01mis\u001B[39;00m \u001B[38;5;129;01mnot\u001B[39;00m \u001B[38;5;28;01mNone\u001B[39;00m:\n\u001B[0;32m--> 560\u001B[0m     \u001B[43mf\u001B[49m\u001B[43m(\u001B[49m\u001B[38;5;28;43mself\u001B[39;49m\u001B[43m,\u001B[49m\u001B[43m \u001B[49m\u001B[43mobj\u001B[49m\u001B[43m)\u001B[49m  \u001B[38;5;66;03m# Call unbound method with explicit self\u001B[39;00m\n\u001B[1;32m    561\u001B[0m     \u001B[38;5;28;01mreturn\u001B[39;00m\n\u001B[1;32m    563\u001B[0m \u001B[38;5;66;03m# Check private dispatch table if any, or else\u001B[39;00m\n\u001B[1;32m    564\u001B[0m \u001B[38;5;66;03m# copyreg.dispatch_table\u001B[39;00m\n",
      "File \u001B[0;32m~/workbench/projects/LTR/venv/lib/python3.10/site-packages/dill/_dill.py:1838\u001B[0m, in \u001B[0;36msave_type\u001B[0;34m(pickler, obj, postproc_list)\u001B[0m\n\u001B[1;32m   1836\u001B[0m             postproc_list \u001B[38;5;241m=\u001B[39m []\n\u001B[1;32m   1837\u001B[0m         postproc_list\u001B[38;5;241m.\u001B[39mappend((\u001B[38;5;28msetattr\u001B[39m, (obj, \u001B[38;5;124m'\u001B[39m\u001B[38;5;124m__qualname__\u001B[39m\u001B[38;5;124m'\u001B[39m, obj_name)))\n\u001B[0;32m-> 1838\u001B[0m     \u001B[43m_save_with_postproc\u001B[49m\u001B[43m(\u001B[49m\u001B[43mpickler\u001B[49m\u001B[43m,\u001B[49m\u001B[43m \u001B[49m\u001B[43m(\u001B[49m\u001B[43m_create_type\u001B[49m\u001B[43m,\u001B[49m\u001B[43m \u001B[49m\u001B[43m(\u001B[49m\n\u001B[1;32m   1839\u001B[0m \u001B[43m        \u001B[49m\u001B[38;5;28;43mtype\u001B[39;49m\u001B[43m(\u001B[49m\u001B[43mobj\u001B[49m\u001B[43m)\u001B[49m\u001B[43m,\u001B[49m\u001B[43m \u001B[49m\u001B[43mobj\u001B[49m\u001B[38;5;241;43m.\u001B[39;49m\u001B[38;5;18;43m__name__\u001B[39;49m\u001B[43m,\u001B[49m\u001B[43m \u001B[49m\u001B[43mobj\u001B[49m\u001B[38;5;241;43m.\u001B[39;49m\u001B[38;5;18;43m__bases__\u001B[39;49m\u001B[43m,\u001B[49m\u001B[43m \u001B[49m\u001B[43m_dict\u001B[49m\n\u001B[1;32m   1840\u001B[0m \u001B[43m    \u001B[49m\u001B[43m)\u001B[49m\u001B[43m)\u001B[49m\u001B[43m,\u001B[49m\u001B[43m \u001B[49m\u001B[43mobj\u001B[49m\u001B[38;5;241;43m=\u001B[39;49m\u001B[43mobj\u001B[49m\u001B[43m,\u001B[49m\u001B[43m \u001B[49m\u001B[43mpostproc_list\u001B[49m\u001B[38;5;241;43m=\u001B[39;49m\u001B[43mpostproc_list\u001B[49m\u001B[43m)\u001B[49m\n\u001B[1;32m   1841\u001B[0m     log\u001B[38;5;241m.\u001B[39minfo(\u001B[38;5;124m\"\u001B[39m\u001B[38;5;124m# \u001B[39m\u001B[38;5;132;01m%s\u001B[39;00m\u001B[38;5;124m\"\u001B[39m \u001B[38;5;241m%\u001B[39m _t)\n\u001B[1;32m   1842\u001B[0m \u001B[38;5;28;01melse\u001B[39;00m:\n",
      "File \u001B[0;32m~/workbench/projects/LTR/venv/lib/python3.10/site-packages/dill/_dill.py:1140\u001B[0m, in \u001B[0;36m_save_with_postproc\u001B[0;34m(pickler, reduction, is_pickler_dill, obj, postproc_list)\u001B[0m\n\u001B[1;32m   1137\u001B[0m     pickler\u001B[38;5;241m.\u001B[39m_postproc[\u001B[38;5;28mid\u001B[39m(obj)] \u001B[38;5;241m=\u001B[39m postproc_list\n\u001B[1;32m   1139\u001B[0m \u001B[38;5;66;03m# TODO: Use state_setter in Python 3.8 to allow for faster cPickle implementations\u001B[39;00m\n\u001B[0;32m-> 1140\u001B[0m \u001B[43mpickler\u001B[49m\u001B[38;5;241;43m.\u001B[39;49m\u001B[43msave_reduce\u001B[49m\u001B[43m(\u001B[49m\u001B[38;5;241;43m*\u001B[39;49m\u001B[43mreduction\u001B[49m\u001B[43m,\u001B[49m\u001B[43m \u001B[49m\u001B[43mobj\u001B[49m\u001B[38;5;241;43m=\u001B[39;49m\u001B[43mobj\u001B[49m\u001B[43m)\u001B[49m\n\u001B[1;32m   1142\u001B[0m \u001B[38;5;28;01mif\u001B[39;00m is_pickler_dill:\n\u001B[1;32m   1143\u001B[0m     \u001B[38;5;66;03m# pickler.x -= 1\u001B[39;00m\n\u001B[1;32m   1144\u001B[0m     \u001B[38;5;66;03m# print(pickler.x*' ', 'pop', obj, id(obj))\u001B[39;00m\n\u001B[1;32m   1145\u001B[0m     postproc \u001B[38;5;241m=\u001B[39m pickler\u001B[38;5;241m.\u001B[39m_postproc\u001B[38;5;241m.\u001B[39mpop(\u001B[38;5;28mid\u001B[39m(obj))\n",
      "File \u001B[0;32m/Library/Frameworks/Python.framework/Versions/3.10/lib/python3.10/pickle.py:692\u001B[0m, in \u001B[0;36m_Pickler.save_reduce\u001B[0;34m(self, func, args, state, listitems, dictitems, state_setter, obj)\u001B[0m\n\u001B[1;32m    690\u001B[0m \u001B[38;5;28;01melse\u001B[39;00m:\n\u001B[1;32m    691\u001B[0m     save(func)\n\u001B[0;32m--> 692\u001B[0m     \u001B[43msave\u001B[49m\u001B[43m(\u001B[49m\u001B[43margs\u001B[49m\u001B[43m)\u001B[49m\n\u001B[1;32m    693\u001B[0m     write(REDUCE)\n\u001B[1;32m    695\u001B[0m \u001B[38;5;28;01mif\u001B[39;00m obj \u001B[38;5;129;01mis\u001B[39;00m \u001B[38;5;129;01mnot\u001B[39;00m \u001B[38;5;28;01mNone\u001B[39;00m:\n\u001B[1;32m    696\u001B[0m     \u001B[38;5;66;03m# If the object is already in the memo, this means it is\u001B[39;00m\n\u001B[1;32m    697\u001B[0m     \u001B[38;5;66;03m# recursive. In this case, throw away everything we put on the\u001B[39;00m\n\u001B[1;32m    698\u001B[0m     \u001B[38;5;66;03m# stack, and fetch the object back from the memo.\u001B[39;00m\n",
      "File \u001B[0;32m/Library/Frameworks/Python.framework/Versions/3.10/lib/python3.10/pickle.py:560\u001B[0m, in \u001B[0;36m_Pickler.save\u001B[0;34m(self, obj, save_persistent_id)\u001B[0m\n\u001B[1;32m    558\u001B[0m f \u001B[38;5;241m=\u001B[39m \u001B[38;5;28mself\u001B[39m\u001B[38;5;241m.\u001B[39mdispatch\u001B[38;5;241m.\u001B[39mget(t)\n\u001B[1;32m    559\u001B[0m \u001B[38;5;28;01mif\u001B[39;00m f \u001B[38;5;129;01mis\u001B[39;00m \u001B[38;5;129;01mnot\u001B[39;00m \u001B[38;5;28;01mNone\u001B[39;00m:\n\u001B[0;32m--> 560\u001B[0m     \u001B[43mf\u001B[49m\u001B[43m(\u001B[49m\u001B[38;5;28;43mself\u001B[39;49m\u001B[43m,\u001B[49m\u001B[43m \u001B[49m\u001B[43mobj\u001B[49m\u001B[43m)\u001B[49m  \u001B[38;5;66;03m# Call unbound method with explicit self\u001B[39;00m\n\u001B[1;32m    561\u001B[0m     \u001B[38;5;28;01mreturn\u001B[39;00m\n\u001B[1;32m    563\u001B[0m \u001B[38;5;66;03m# Check private dispatch table if any, or else\u001B[39;00m\n\u001B[1;32m    564\u001B[0m \u001B[38;5;66;03m# copyreg.dispatch_table\u001B[39;00m\n",
      "File \u001B[0;32m/Library/Frameworks/Python.framework/Versions/3.10/lib/python3.10/pickle.py:902\u001B[0m, in \u001B[0;36m_Pickler.save_tuple\u001B[0;34m(self, obj)\u001B[0m\n\u001B[1;32m    900\u001B[0m write(MARK)\n\u001B[1;32m    901\u001B[0m \u001B[38;5;28;01mfor\u001B[39;00m element \u001B[38;5;129;01min\u001B[39;00m obj:\n\u001B[0;32m--> 902\u001B[0m     \u001B[43msave\u001B[49m\u001B[43m(\u001B[49m\u001B[43melement\u001B[49m\u001B[43m)\u001B[49m\n\u001B[1;32m    904\u001B[0m \u001B[38;5;28;01mif\u001B[39;00m \u001B[38;5;28mid\u001B[39m(obj) \u001B[38;5;129;01min\u001B[39;00m memo:\n\u001B[1;32m    905\u001B[0m     \u001B[38;5;66;03m# Subtle.  d was not in memo when we entered save_tuple(), so\u001B[39;00m\n\u001B[1;32m    906\u001B[0m     \u001B[38;5;66;03m# the process of saving the tuple's elements must have saved\u001B[39;00m\n\u001B[0;32m   (...)\u001B[0m\n\u001B[1;32m    910\u001B[0m     \u001B[38;5;66;03m# could have been done in the \"for element\" loop instead, but\u001B[39;00m\n\u001B[1;32m    911\u001B[0m     \u001B[38;5;66;03m# recursive tuples are a rare thing.\u001B[39;00m\n\u001B[1;32m    912\u001B[0m     get \u001B[38;5;241m=\u001B[39m \u001B[38;5;28mself\u001B[39m\u001B[38;5;241m.\u001B[39mget(memo[\u001B[38;5;28mid\u001B[39m(obj)][\u001B[38;5;241m0\u001B[39m])\n",
      "File \u001B[0;32m/Library/Frameworks/Python.framework/Versions/3.10/lib/python3.10/pickle.py:560\u001B[0m, in \u001B[0;36m_Pickler.save\u001B[0;34m(self, obj, save_persistent_id)\u001B[0m\n\u001B[1;32m    558\u001B[0m f \u001B[38;5;241m=\u001B[39m \u001B[38;5;28mself\u001B[39m\u001B[38;5;241m.\u001B[39mdispatch\u001B[38;5;241m.\u001B[39mget(t)\n\u001B[1;32m    559\u001B[0m \u001B[38;5;28;01mif\u001B[39;00m f \u001B[38;5;129;01mis\u001B[39;00m \u001B[38;5;129;01mnot\u001B[39;00m \u001B[38;5;28;01mNone\u001B[39;00m:\n\u001B[0;32m--> 560\u001B[0m     \u001B[43mf\u001B[49m\u001B[43m(\u001B[49m\u001B[38;5;28;43mself\u001B[39;49m\u001B[43m,\u001B[49m\u001B[43m \u001B[49m\u001B[43mobj\u001B[49m\u001B[43m)\u001B[49m  \u001B[38;5;66;03m# Call unbound method with explicit self\u001B[39;00m\n\u001B[1;32m    561\u001B[0m     \u001B[38;5;28;01mreturn\u001B[39;00m\n\u001B[1;32m    563\u001B[0m \u001B[38;5;66;03m# Check private dispatch table if any, or else\u001B[39;00m\n\u001B[1;32m    564\u001B[0m \u001B[38;5;66;03m# copyreg.dispatch_table\u001B[39;00m\n",
      "File \u001B[0;32m~/workbench/projects/LTR/venv/lib/python3.10/site-packages/dill/_dill.py:1251\u001B[0m, in \u001B[0;36msave_module_dict\u001B[0;34m(pickler, obj)\u001B[0m\n\u001B[1;32m   1248\u001B[0m     \u001B[38;5;28;01mif\u001B[39;00m is_dill(pickler, child\u001B[38;5;241m=\u001B[39m\u001B[38;5;28;01mFalse\u001B[39;00m) \u001B[38;5;129;01mand\u001B[39;00m pickler\u001B[38;5;241m.\u001B[39m_session:\n\u001B[1;32m   1249\u001B[0m         \u001B[38;5;66;03m# we only care about session the first pass thru\u001B[39;00m\n\u001B[1;32m   1250\u001B[0m         pickler\u001B[38;5;241m.\u001B[39m_first_pass \u001B[38;5;241m=\u001B[39m \u001B[38;5;28;01mFalse\u001B[39;00m\n\u001B[0;32m-> 1251\u001B[0m     \u001B[43mStockPickler\u001B[49m\u001B[38;5;241;43m.\u001B[39;49m\u001B[43msave_dict\u001B[49m\u001B[43m(\u001B[49m\u001B[43mpickler\u001B[49m\u001B[43m,\u001B[49m\u001B[43m \u001B[49m\u001B[43mobj\u001B[49m\u001B[43m)\u001B[49m\n\u001B[1;32m   1252\u001B[0m     log\u001B[38;5;241m.\u001B[39minfo(\u001B[38;5;124m\"\u001B[39m\u001B[38;5;124m# D2\u001B[39m\u001B[38;5;124m\"\u001B[39m)\n\u001B[1;32m   1253\u001B[0m \u001B[38;5;28;01mreturn\u001B[39;00m\n",
      "File \u001B[0;32m/Library/Frameworks/Python.framework/Versions/3.10/lib/python3.10/pickle.py:972\u001B[0m, in \u001B[0;36m_Pickler.save_dict\u001B[0;34m(self, obj)\u001B[0m\n\u001B[1;32m    969\u001B[0m     \u001B[38;5;28mself\u001B[39m\u001B[38;5;241m.\u001B[39mwrite(MARK \u001B[38;5;241m+\u001B[39m DICT)\n\u001B[1;32m    971\u001B[0m \u001B[38;5;28mself\u001B[39m\u001B[38;5;241m.\u001B[39mmemoize(obj)\n\u001B[0;32m--> 972\u001B[0m \u001B[38;5;28;43mself\u001B[39;49m\u001B[38;5;241;43m.\u001B[39;49m\u001B[43m_batch_setitems\u001B[49m\u001B[43m(\u001B[49m\u001B[43mobj\u001B[49m\u001B[38;5;241;43m.\u001B[39;49m\u001B[43mitems\u001B[49m\u001B[43m(\u001B[49m\u001B[43m)\u001B[49m\u001B[43m)\u001B[49m\n",
      "File \u001B[0;32m/Library/Frameworks/Python.framework/Versions/3.10/lib/python3.10/pickle.py:998\u001B[0m, in \u001B[0;36m_Pickler._batch_setitems\u001B[0;34m(self, items)\u001B[0m\n\u001B[1;32m    996\u001B[0m     \u001B[38;5;28;01mfor\u001B[39;00m k, v \u001B[38;5;129;01min\u001B[39;00m tmp:\n\u001B[1;32m    997\u001B[0m         save(k)\n\u001B[0;32m--> 998\u001B[0m         \u001B[43msave\u001B[49m\u001B[43m(\u001B[49m\u001B[43mv\u001B[49m\u001B[43m)\u001B[49m\n\u001B[1;32m    999\u001B[0m     write(SETITEMS)\n\u001B[1;32m   1000\u001B[0m \u001B[38;5;28;01melif\u001B[39;00m n:\n",
      "File \u001B[0;32m/Library/Frameworks/Python.framework/Versions/3.10/lib/python3.10/pickle.py:578\u001B[0m, in \u001B[0;36m_Pickler.save\u001B[0;34m(self, obj, save_persistent_id)\u001B[0m\n\u001B[1;32m    576\u001B[0m reduce \u001B[38;5;241m=\u001B[39m \u001B[38;5;28mgetattr\u001B[39m(obj, \u001B[38;5;124m\"\u001B[39m\u001B[38;5;124m__reduce_ex__\u001B[39m\u001B[38;5;124m\"\u001B[39m, \u001B[38;5;28;01mNone\u001B[39;00m)\n\u001B[1;32m    577\u001B[0m \u001B[38;5;28;01mif\u001B[39;00m reduce \u001B[38;5;129;01mis\u001B[39;00m \u001B[38;5;129;01mnot\u001B[39;00m \u001B[38;5;28;01mNone\u001B[39;00m:\n\u001B[0;32m--> 578\u001B[0m     rv \u001B[38;5;241m=\u001B[39m \u001B[43mreduce\u001B[49m\u001B[43m(\u001B[49m\u001B[38;5;28;43mself\u001B[39;49m\u001B[38;5;241;43m.\u001B[39;49m\u001B[43mproto\u001B[49m\u001B[43m)\u001B[49m\n\u001B[1;32m    579\u001B[0m \u001B[38;5;28;01melse\u001B[39;00m:\n\u001B[1;32m    580\u001B[0m     reduce \u001B[38;5;241m=\u001B[39m \u001B[38;5;28mgetattr\u001B[39m(obj, \u001B[38;5;124m\"\u001B[39m\u001B[38;5;124m__reduce__\u001B[39m\u001B[38;5;124m\"\u001B[39m, \u001B[38;5;28;01mNone\u001B[39;00m)\n",
      "\u001B[0;31mTypeError\u001B[0m: cannot pickle '_abc._abc_data' object"
     ]
    }
   ],
   "source": [
    "sess = sagemaker.Session()\n",
    "account = sess.boto_session.client('sts').get_caller_identity()['Account']\n",
    "region = sess.boto_session.region_name\n",
    "\n",
    "image = '{}.dkr.ecr.{}.amazonaws.com/sagemaker-hello-world-inference:latest'.format(account, region)\n",
    "\n",
    "sagemaker_model = Model(\n",
    "                        sagemaker_session= sess,\n",
    "                        model_data = \"s3://\"+bucket+\"/\"+prefix+\"/model.tar.gz\" ,\n",
    "                        image_uri= image,\n",
    "                        role=role,\n",
    "                        predictor_cls= Predictor\n",
    "                       )\n",
    "\n",
    "sagemaker_model = Model(\n",
    "                        sagemaker_session= sess,\n",
    "                        model_data = \"s3://cits-byotf/model/model.tar.gz\",\n",
    "                        image_uri = '122936777114.dkr.ecr.us-east-1.amazonaws.com/cits_byo',\n",
    "                        role=role,\n",
    "                        predictor_cls= Predictor\n",
    "                       )"
   ]
  },
  {
   "cell_type": "markdown",
   "metadata": {
    "pycharm": {
     "name": "#%% md\n"
    }
   },
   "source": [
    "#### Deploy the Model to an Endpoint"
   ]
  },
  {
   "cell_type": "code",
   "execution_count": 13,
   "metadata": {
    "pycharm": {
     "name": "#%%\n"
    }
   },
   "outputs": [
    {
     "ename": "ClientError",
     "evalue": "An error occurred (ValidationException) when calling the CreateModel operation: 1 validation error detected: Value 'cits_byo-2022-09-15-22-59-21-656' at 'modelName' failed to satisfy constraint: Member must satisfy regular expression pattern: ^[a-zA-Z0-9]([\\-a-zA-Z0-9]*[a-zA-Z0-9])?",
     "output_type": "error",
     "traceback": [
      "\u001B[0;31m---------------------------------------------------------------------------\u001B[0m",
      "\u001B[0;31mClientError\u001B[0m                               Traceback (most recent call last)",
      "Input \u001B[0;32mIn [13]\u001B[0m, in \u001B[0;36m<cell line: 1>\u001B[0;34m()\u001B[0m\n\u001B[0;32m----> 1\u001B[0m predictor \u001B[38;5;241m=\u001B[39m \u001B[43msagemaker_model\u001B[49m\u001B[38;5;241;43m.\u001B[39;49m\u001B[43mdeploy\u001B[49m\u001B[43m(\u001B[49m\u001B[43minitial_instance_count\u001B[49m\u001B[38;5;241;43m=\u001B[39;49m\u001B[43m \u001B[49m\u001B[38;5;241;43m1\u001B[39;49m\u001B[43m,\u001B[49m\u001B[43minstance_type\u001B[49m\u001B[38;5;241;43m=\u001B[39;49m\u001B[43m \u001B[49m\u001B[38;5;124;43m'\u001B[39;49m\u001B[38;5;124;43mml.m4.xlarge\u001B[39;49m\u001B[38;5;124;43m'\u001B[39;49m\u001B[43m \u001B[49m\u001B[43m)\u001B[49m\n",
      "File \u001B[0;32m~/workbench/projects/LTR/venv/lib/python3.10/site-packages/sagemaker/model.py:1139\u001B[0m, in \u001B[0;36mModel.deploy\u001B[0;34m(self, initial_instance_count, instance_type, serializer, deserializer, accelerator_type, endpoint_name, tags, kms_key, wait, data_capture_config, async_inference_config, serverless_inference_config, **kwargs)\u001B[0m\n\u001B[1;32m   1136\u001B[0m     \u001B[38;5;28;01mif\u001B[39;00m \u001B[38;5;28mself\u001B[39m\u001B[38;5;241m.\u001B[39m_base_name \u001B[38;5;129;01mis\u001B[39;00m \u001B[38;5;129;01mnot\u001B[39;00m \u001B[38;5;28;01mNone\u001B[39;00m:\n\u001B[1;32m   1137\u001B[0m         \u001B[38;5;28mself\u001B[39m\u001B[38;5;241m.\u001B[39m_base_name \u001B[38;5;241m=\u001B[39m \u001B[38;5;124m\"\u001B[39m\u001B[38;5;124m-\u001B[39m\u001B[38;5;124m\"\u001B[39m\u001B[38;5;241m.\u001B[39mjoin((\u001B[38;5;28mself\u001B[39m\u001B[38;5;241m.\u001B[39m_base_name, compiled_model_suffix))\n\u001B[0;32m-> 1139\u001B[0m \u001B[38;5;28;43mself\u001B[39;49m\u001B[38;5;241;43m.\u001B[39;49m\u001B[43m_create_sagemaker_model\u001B[49m\u001B[43m(\u001B[49m\n\u001B[1;32m   1140\u001B[0m \u001B[43m    \u001B[49m\u001B[43minstance_type\u001B[49m\u001B[43m,\u001B[49m\u001B[43m \u001B[49m\u001B[43maccelerator_type\u001B[49m\u001B[43m,\u001B[49m\u001B[43m \u001B[49m\u001B[43mtags\u001B[49m\u001B[43m,\u001B[49m\u001B[43m \u001B[49m\u001B[43mserverless_inference_config\u001B[49m\n\u001B[1;32m   1141\u001B[0m \u001B[43m\u001B[49m\u001B[43m)\u001B[49m\n\u001B[1;32m   1143\u001B[0m serverless_inference_config_dict \u001B[38;5;241m=\u001B[39m (\n\u001B[1;32m   1144\u001B[0m     serverless_inference_config\u001B[38;5;241m.\u001B[39m_to_request_dict() \u001B[38;5;28;01mif\u001B[39;00m is_serverless \u001B[38;5;28;01melse\u001B[39;00m \u001B[38;5;28;01mNone\u001B[39;00m\n\u001B[1;32m   1145\u001B[0m )\n\u001B[1;32m   1146\u001B[0m production_variant \u001B[38;5;241m=\u001B[39m sagemaker\u001B[38;5;241m.\u001B[39mproduction_variant(\n\u001B[1;32m   1147\u001B[0m     \u001B[38;5;28mself\u001B[39m\u001B[38;5;241m.\u001B[39mname,\n\u001B[1;32m   1148\u001B[0m     instance_type,\n\u001B[0;32m   (...)\u001B[0m\n\u001B[1;32m   1151\u001B[0m     serverless_inference_config\u001B[38;5;241m=\u001B[39mserverless_inference_config_dict,\n\u001B[1;32m   1152\u001B[0m )\n",
      "File \u001B[0;32m~/workbench/projects/LTR/venv/lib/python3.10/site-packages/sagemaker/model.py:679\u001B[0m, in \u001B[0;36mModel._create_sagemaker_model\u001B[0;34m(self, instance_type, accelerator_type, tags, serverless_inference_config)\u001B[0m\n\u001B[1;32m    670\u001B[0m \u001B[38;5;28mself\u001B[39m\u001B[38;5;241m.\u001B[39m_init_sagemaker_session_if_does_not_exist(instance_type)\n\u001B[1;32m    671\u001B[0m create_model_args \u001B[38;5;241m=\u001B[39m \u001B[38;5;28mdict\u001B[39m(\n\u001B[1;32m    672\u001B[0m     name\u001B[38;5;241m=\u001B[39m\u001B[38;5;28mself\u001B[39m\u001B[38;5;241m.\u001B[39mname,\n\u001B[1;32m    673\u001B[0m     role\u001B[38;5;241m=\u001B[39m\u001B[38;5;28mself\u001B[39m\u001B[38;5;241m.\u001B[39mrole,\n\u001B[0;32m   (...)\u001B[0m\n\u001B[1;32m    677\u001B[0m     tags\u001B[38;5;241m=\u001B[39mtags,\n\u001B[1;32m    678\u001B[0m )\n\u001B[0;32m--> 679\u001B[0m \u001B[38;5;28;43mself\u001B[39;49m\u001B[38;5;241;43m.\u001B[39;49m\u001B[43msagemaker_session\u001B[49m\u001B[38;5;241;43m.\u001B[39;49m\u001B[43mcreate_model\u001B[49m\u001B[43m(\u001B[49m\u001B[38;5;241;43m*\u001B[39;49m\u001B[38;5;241;43m*\u001B[39;49m\u001B[43mcreate_model_args\u001B[49m\u001B[43m)\u001B[49m\n",
      "File \u001B[0;32m~/workbench/projects/LTR/venv/lib/python3.10/site-packages/sagemaker/session.py:2720\u001B[0m, in \u001B[0;36mSession.create_model\u001B[0;34m(self, name, role, container_defs, vpc_config, enable_network_isolation, primary_container, tags)\u001B[0m\n\u001B[1;32m   2717\u001B[0m         \u001B[38;5;28;01melse\u001B[39;00m:\n\u001B[1;32m   2718\u001B[0m             \u001B[38;5;28;01mraise\u001B[39;00m\n\u001B[0;32m-> 2720\u001B[0m \u001B[38;5;28;43mself\u001B[39;49m\u001B[38;5;241;43m.\u001B[39;49m\u001B[43m_intercept_create_request\u001B[49m\u001B[43m(\u001B[49m\u001B[43mcreate_model_request\u001B[49m\u001B[43m,\u001B[49m\u001B[43m \u001B[49m\u001B[43msubmit\u001B[49m\u001B[43m,\u001B[49m\u001B[43m \u001B[49m\u001B[38;5;28;43mself\u001B[39;49m\u001B[38;5;241;43m.\u001B[39;49m\u001B[43mcreate_model\u001B[49m\u001B[38;5;241;43m.\u001B[39;49m\u001B[38;5;18;43m__name__\u001B[39;49m\u001B[43m)\u001B[49m\n\u001B[1;32m   2721\u001B[0m \u001B[38;5;28;01mreturn\u001B[39;00m name\n",
      "File \u001B[0;32m~/workbench/projects/LTR/venv/lib/python3.10/site-packages/sagemaker/session.py:4305\u001B[0m, in \u001B[0;36mSession._intercept_create_request\u001B[0;34m(self, request, create, func_name)\u001B[0m\n\u001B[1;32m   4292\u001B[0m \u001B[38;5;28;01mdef\u001B[39;00m \u001B[38;5;21m_intercept_create_request\u001B[39m(\n\u001B[1;32m   4293\u001B[0m     \u001B[38;5;28mself\u001B[39m, request: typing\u001B[38;5;241m.\u001B[39mDict, create, func_name: \u001B[38;5;28mstr\u001B[39m \u001B[38;5;241m=\u001B[39m \u001B[38;5;28;01mNone\u001B[39;00m  \u001B[38;5;66;03m# pylint: disable=unused-argument\u001B[39;00m\n\u001B[1;32m   4294\u001B[0m ):\n\u001B[1;32m   4295\u001B[0m     \u001B[38;5;124;03m\"\"\"This function intercepts the create job request.\u001B[39;00m\n\u001B[1;32m   4296\u001B[0m \n\u001B[1;32m   4297\u001B[0m \u001B[38;5;124;03m    PipelineSession inherits this Session class and will override\u001B[39;00m\n\u001B[0;32m   (...)\u001B[0m\n\u001B[1;32m   4303\u001B[0m \u001B[38;5;124;03m        func_name (str): the name of the function needed intercepting\u001B[39;00m\n\u001B[1;32m   4304\u001B[0m \u001B[38;5;124;03m    \"\"\"\u001B[39;00m\n\u001B[0;32m-> 4305\u001B[0m     \u001B[38;5;28;01mreturn\u001B[39;00m \u001B[43mcreate\u001B[49m\u001B[43m(\u001B[49m\u001B[43mrequest\u001B[49m\u001B[43m)\u001B[49m\n",
      "File \u001B[0;32m~/workbench/projects/LTR/venv/lib/python3.10/site-packages/sagemaker/session.py:2708\u001B[0m, in \u001B[0;36mSession.create_model.<locals>.submit\u001B[0;34m(request)\u001B[0m\n\u001B[1;32m   2706\u001B[0m LOGGER\u001B[38;5;241m.\u001B[39mdebug(\u001B[38;5;124m\"\u001B[39m\u001B[38;5;124mCreateModel request: \u001B[39m\u001B[38;5;132;01m%s\u001B[39;00m\u001B[38;5;124m\"\u001B[39m, json\u001B[38;5;241m.\u001B[39mdumps(request, indent\u001B[38;5;241m=\u001B[39m\u001B[38;5;241m4\u001B[39m))\n\u001B[1;32m   2707\u001B[0m \u001B[38;5;28;01mtry\u001B[39;00m:\n\u001B[0;32m-> 2708\u001B[0m     \u001B[38;5;28;43mself\u001B[39;49m\u001B[38;5;241;43m.\u001B[39;49m\u001B[43msagemaker_client\u001B[49m\u001B[38;5;241;43m.\u001B[39;49m\u001B[43mcreate_model\u001B[49m\u001B[43m(\u001B[49m\u001B[38;5;241;43m*\u001B[39;49m\u001B[38;5;241;43m*\u001B[39;49m\u001B[43mrequest\u001B[49m\u001B[43m)\u001B[49m\n\u001B[1;32m   2709\u001B[0m \u001B[38;5;28;01mexcept\u001B[39;00m ClientError \u001B[38;5;28;01mas\u001B[39;00m e:\n\u001B[1;32m   2710\u001B[0m     error_code \u001B[38;5;241m=\u001B[39m e\u001B[38;5;241m.\u001B[39mresponse[\u001B[38;5;124m\"\u001B[39m\u001B[38;5;124mError\u001B[39m\u001B[38;5;124m\"\u001B[39m][\u001B[38;5;124m\"\u001B[39m\u001B[38;5;124mCode\u001B[39m\u001B[38;5;124m\"\u001B[39m]\n",
      "File \u001B[0;32m~/workbench/projects/LTR/venv/lib/python3.10/site-packages/botocore/client.py:514\u001B[0m, in \u001B[0;36mClientCreator._create_api_method.<locals>._api_call\u001B[0;34m(self, *args, **kwargs)\u001B[0m\n\u001B[1;32m    510\u001B[0m     \u001B[38;5;28;01mraise\u001B[39;00m \u001B[38;5;167;01mTypeError\u001B[39;00m(\n\u001B[1;32m    511\u001B[0m         \u001B[38;5;124mf\u001B[39m\u001B[38;5;124m\"\u001B[39m\u001B[38;5;132;01m{\u001B[39;00mpy_operation_name\u001B[38;5;132;01m}\u001B[39;00m\u001B[38;5;124m() only accepts keyword arguments.\u001B[39m\u001B[38;5;124m\"\u001B[39m\n\u001B[1;32m    512\u001B[0m     )\n\u001B[1;32m    513\u001B[0m \u001B[38;5;66;03m# The \"self\" in this scope is referring to the BaseClient.\u001B[39;00m\n\u001B[0;32m--> 514\u001B[0m \u001B[38;5;28;01mreturn\u001B[39;00m \u001B[38;5;28;43mself\u001B[39;49m\u001B[38;5;241;43m.\u001B[39;49m\u001B[43m_make_api_call\u001B[49m\u001B[43m(\u001B[49m\u001B[43moperation_name\u001B[49m\u001B[43m,\u001B[49m\u001B[43m \u001B[49m\u001B[43mkwargs\u001B[49m\u001B[43m)\u001B[49m\n",
      "File \u001B[0;32m~/workbench/projects/LTR/venv/lib/python3.10/site-packages/botocore/client.py:934\u001B[0m, in \u001B[0;36mBaseClient._make_api_call\u001B[0;34m(self, operation_name, api_params)\u001B[0m\n\u001B[1;32m    932\u001B[0m     error_code \u001B[38;5;241m=\u001B[39m parsed_response\u001B[38;5;241m.\u001B[39mget(\u001B[38;5;124m\"\u001B[39m\u001B[38;5;124mError\u001B[39m\u001B[38;5;124m\"\u001B[39m, {})\u001B[38;5;241m.\u001B[39mget(\u001B[38;5;124m\"\u001B[39m\u001B[38;5;124mCode\u001B[39m\u001B[38;5;124m\"\u001B[39m)\n\u001B[1;32m    933\u001B[0m     error_class \u001B[38;5;241m=\u001B[39m \u001B[38;5;28mself\u001B[39m\u001B[38;5;241m.\u001B[39mexceptions\u001B[38;5;241m.\u001B[39mfrom_code(error_code)\n\u001B[0;32m--> 934\u001B[0m     \u001B[38;5;28;01mraise\u001B[39;00m error_class(parsed_response, operation_name)\n\u001B[1;32m    935\u001B[0m \u001B[38;5;28;01melse\u001B[39;00m:\n\u001B[1;32m    936\u001B[0m     \u001B[38;5;28;01mreturn\u001B[39;00m parsed_response\n",
      "\u001B[0;31mClientError\u001B[0m: An error occurred (ValidationException) when calling the CreateModel operation: 1 validation error detected: Value 'cits_byo-2022-09-15-22-59-21-656' at 'modelName' failed to satisfy constraint: Member must satisfy regular expression pattern: ^[a-zA-Z0-9]([\\-a-zA-Z0-9]*[a-zA-Z0-9])?"
     ]
    }
   ],
   "source": [
    "predictor = sagemaker_model.deploy(initial_instance_count= 1,instance_type= 'ml.m4.xlarge' )"
   ]
  },
  {
   "cell_type": "markdown",
   "metadata": {
    "pycharm": {
     "name": "#%% md\n"
    }
   },
   "source": [
    "#### Get a prediction from our Endpoint"
   ]
  },
  {
   "cell_type": "code",
   "execution_count": null,
   "metadata": {
    "pycharm": {
     "name": "#%%\n"
    }
   },
   "outputs": [],
   "source": [
    "predictor.predict(\"Say Hello World!\")"
   ]
  },
  {
   "cell_type": "markdown",
   "metadata": {
    "pycharm": {
     "name": "#%% md\n"
    }
   },
   "source": [
    "#### Optional cleanup\n",
    "When you're done with the endpoint, you'll want to clean it up."
   ]
  },
  {
   "cell_type": "code",
   "execution_count": null,
   "metadata": {
    "pycharm": {
     "name": "#%%\n"
    }
   },
   "outputs": [],
   "source": [
    "sess.delete_endpoint(predictor.endpoint)"
   ]
  },
  {
   "cell_type": "markdown",
   "metadata": {
    "pycharm": {
     "name": "#%% md\n"
    }
   },
   "source": [
    "## Batch Transform Job\n",
    "Now that we have seen the we can deploy our custom pickle file to a RealTime Endpoint and get a prediction, lets now create a Batch Transform Job that will give us batch inference."
   ]
  },
  {
   "cell_type": "markdown",
   "metadata": {
    "pycharm": {
     "name": "#%% md\n"
    }
   },
   "source": [
    "### Create the input data and upload it to S3"
   ]
  },
  {
   "cell_type": "code",
   "execution_count": null,
   "metadata": {
    "pycharm": {
     "name": "#%%\n"
    }
   },
   "outputs": [],
   "source": [
    "%%writefile batchdata.csv\n",
    "Say Hello World!\n",
    "Say Hello World!\n",
    "Say Hello World!\n",
    "Say Hello World!\n",
    "Say Hello World!\n",
    "Say Hello World!\n",
    "Say Hello World!\n",
    "Say Hello World!\n",
    "Say Hello World!"
   ]
  },
  {
   "cell_type": "code",
   "execution_count": null,
   "metadata": {
    "pycharm": {
     "name": "#%%\n"
    }
   },
   "outputs": [],
   "source": [
    "! aws s3 cp batchdata.csv s3://$bucket/$prefix/batchdata.csv"
   ]
  },
  {
   "cell_type": "markdown",
   "metadata": {
    "pycharm": {
     "name": "#%% md\n"
    }
   },
   "source": [
    "### Create the Transfromer from the SageMaker Model and transform the data we created up."
   ]
  },
  {
   "cell_type": "code",
   "execution_count": null,
   "metadata": {
    "pycharm": {
     "name": "#%%\n"
    }
   },
   "outputs": [],
   "source": [
    "transform_output_folder = \"batch-transform-output\"\n",
    "output_path=\"s3://{}/{}/{}\".format(sess.default_bucket(),\"DEMO-hello-world\",transform_output_folder)\n",
    "\n",
    "transformer = sagemaker_model.transformer(instance_count=1,\n",
    "                               instance_type='ml.m4.xlarge',\n",
    "                               output_path=output_path,\n",
    "                               assemble_with='Line',\n",
    "                               accept='text/csv')"
   ]
  },
  {
   "cell_type": "code",
   "execution_count": null,
   "metadata": {
    "pycharm": {
     "name": "#%%\n"
    }
   },
   "outputs": [],
   "source": [
    "input_path=\"s3://{}/{}/{}\".format(sess.default_bucket(),\"DEMO-hello-world\",\"batchdata.csv\")\n",
    "\n",
    "\n",
    "transformer.transform(input_path, content_type='text/csv', split_type='Line')\n",
    "transformer.wait()"
   ]
  },
  {
   "cell_type": "markdown",
   "metadata": {
    "pycharm": {
     "name": "#%% md\n"
    }
   },
   "source": [
    "### View the Batch Transform results."
   ]
  },
  {
   "cell_type": "code",
   "execution_count": null,
   "metadata": {
    "pycharm": {
     "name": "#%%\n"
    }
   },
   "outputs": [],
   "source": [
    "s3_client = sess.boto_session.client('s3')\n",
    "s3_client.download_file(sess.default_bucket(), \"DEMO-hello-world/{}/batchdata.csv.out\".format(transform_output_folder), '/tmp/batchdata.csv.out')\n",
    "\n",
    "\n",
    "with open('/tmp/batchdata.csv.out') as f:\n",
    "    results = f.readlines()   \n",
    "print(\"Transform results: \\n{}\".format(''.join(results)))"
   ]
  }
 ],
 "metadata": {
  "kernelspec": {
   "name": "python3",
   "language": "python",
   "display_name": "Python 3 (ipykernel)"
  },
  "language_info": {
   "codemirror_mode": {
    "name": "ipython",
    "version": 3
   },
   "file_extension": ".py",
   "mimetype": "text/x-python",
   "name": "python",
   "nbconvert_exporter": "python",
   "pygments_lexer": "ipython3",
   "version": "3.6.13"
  }
 },
 "nbformat": 4,
 "nbformat_minor": 4
}